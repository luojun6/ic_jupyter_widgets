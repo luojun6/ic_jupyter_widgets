{
 "cells": [
  {
   "cell_type": "code",
   "execution_count": null,
   "id": "4a4104c9",
   "metadata": {},
   "outputs": [],
   "source": [
    "from common.UISystemPower import *"
   ]
  },
  {
   "cell_type": "code",
   "execution_count": null,
   "id": "f396b5fb",
   "metadata": {},
   "outputs": [],
   "source": [
    "sysPwrMd = UIVehicleSystemPowerModeDropdown()"
   ]
  },
  {
   "cell_type": "code",
   "execution_count": null,
   "id": "9d0181c2",
   "metadata": {},
   "outputs": [],
   "source": [
    "sysPwrMd"
   ]
  },
  {
   "cell_type": "code",
   "execution_count": null,
   "id": "70ad2894",
   "metadata": {},
   "outputs": [],
   "source": []
  },
  {
   "cell_type": "code",
   "execution_count": 1,
   "id": "0e5d9ddb",
   "metadata": {},
   "outputs": [
    {
     "ename": "TypeError",
     "evalue": "__init__() missing 2 required positional arguments: 'avm_pm' and 'state_list'",
     "output_type": "error",
     "traceback": [
      "\u001b[0;31m---------------------------------------------------------------------------\u001b[0m",
      "\u001b[0;31mTypeError\u001b[0m                                 Traceback (most recent call last)",
      "\u001b[0;32m/tmp/ipykernel_571851/2150631900.py\u001b[0m in \u001b[0;36m<module>\u001b[0;34m\u001b[0m\n\u001b[1;32m      1\u001b[0m \u001b[0;32mfrom\u001b[0m \u001b[0mcustomized\u001b[0m\u001b[0;34m.\u001b[0m\u001b[0mIviAvmCamPMDemo\u001b[0m \u001b[0;32mimport\u001b[0m \u001b[0mIviAvmCamPMDemo\u001b[0m\u001b[0;34m\u001b[0m\u001b[0;34m\u001b[0m\u001b[0m\n\u001b[0;32m----> 2\u001b[0;31m \u001b[0mdemo\u001b[0m \u001b[0;34m=\u001b[0m \u001b[0mIviAvmCamPMDemo\u001b[0m\u001b[0;34m(\u001b[0m\u001b[0;34m)\u001b[0m\u001b[0;34m\u001b[0m\u001b[0;34m\u001b[0m\u001b[0m\n\u001b[0m",
      "\u001b[0;31mTypeError\u001b[0m: __init__() missing 2 required positional arguments: 'avm_pm' and 'state_list'"
     ]
    }
   ],
   "source": [
    "from customized.IviAvmCamPMDemo import IviAvmCamPMDemo, IviAvmCamPM, state_list\n",
    "demo = IviAvmCamPMDemo()"
   ]
  },
  {
   "cell_type": "code",
   "execution_count": null,
   "id": "4b7cd8f3",
   "metadata": {},
   "outputs": [],
   "source": [
    "demo"
   ]
  },
  {
   "cell_type": "code",
   "execution_count": null,
   "id": "1dcfbd96",
   "metadata": {},
   "outputs": [],
   "source": []
  },
  {
   "cell_type": "code",
   "execution_count": null,
   "id": "cbb6dfea",
   "metadata": {},
   "outputs": [],
   "source": [
    "list(range(1, 5))"
   ]
  },
  {
   "cell_type": "code",
   "execution_count": null,
   "id": "ab0dfe26",
   "metadata": {},
   "outputs": [],
   "source": []
  }
 ],
 "metadata": {
  "kernelspec": {
   "display_name": "Python 3 (ipykernel)",
   "language": "python",
   "name": "python3"
  },
  "language_info": {
   "codemirror_mode": {
    "name": "ipython",
    "version": 3
   },
   "file_extension": ".py",
   "mimetype": "text/x-python",
   "name": "python",
   "nbconvert_exporter": "python",
   "pygments_lexer": "ipython3",
   "version": "3.9.7"
  }
 },
 "nbformat": 4,
 "nbformat_minor": 5
}
