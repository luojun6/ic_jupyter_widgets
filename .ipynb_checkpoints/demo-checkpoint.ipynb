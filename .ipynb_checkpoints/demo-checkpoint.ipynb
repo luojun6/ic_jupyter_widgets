{
 "cells": [
  {
   "cell_type": "code",
   "execution_count": 1,
   "id": "bde37250",
   "metadata": {},
   "outputs": [],
   "source": [
    "import ipywidgets as widgets\n",
    "from components.DualDisplay import *\n",
    "from components.UISignal import *"
   ]
  },
  {
   "cell_type": "code",
   "execution_count": 2,
   "id": "12f2df6f",
   "metadata": {},
   "outputs": [
    {
     "data": {
      "text/html": [
       "<style>\n",
       ".screen_off{\n",
       "    background-color:black;\n",
       "}\n",
       ".font_color_day{\n",
       "    text-align: center;\n",
       "    color: blue;\n",
       "}\n",
       ".font_color_night{\n",
       "    text-align: center;\n",
       "    color: yellow;\n",
       "}\n",
       ".theme_day{\n",
       "    background-color:#F9F9F9;\n",
       "}\n",
       ".theme_night{\n",
       "    background-color:#1E1E1E;\n",
       "}\n",
       "</style>\n"
      ],
      "text/plain": [
       "<IPython.core.display.HTML object>"
      ]
     },
     "metadata": {},
     "output_type": "display_data"
    }
   ],
   "source": [
    "%%html\n",
    "<style>\n",
    ".screen_off{\n",
    "    background-color:black;\n",
    "}\n",
    ".font_color_day{\n",
    "    color: blue;\n",
    "}\n",
    ".font_color_night{\n",
    "    color: yellow;\n",
    "}\n",
    ".theme_day{\n",
    "    background-color:#F9F9F9;\n",
    "}\n",
    ".theme_night{\n",
    "    background-color:#1E1E1E;\n",
    "}\n",
    "</style>"
   ]
  },
  {
   "cell_type": "code",
   "execution_count": 3,
   "id": "22be0403",
   "metadata": {},
   "outputs": [
    {
     "data": {
      "application/vnd.jupyter.widget-view+json": {
       "model_id": "c9127a7f3d284dfbbfdad85e9230d4aa",
       "version_major": 2,
       "version_minor": 0
      },
      "text/plain": [
       "DualDisplay(children=(DriverDisplay(children=(Output(), Output(layout=Layout(align_items='center', justify_con…"
      ]
     },
     "metadata": {},
     "output_type": "display_data"
    }
   ],
   "source": [
    "dual = DualDisplay()\n",
    "dual"
   ]
  },
  {
   "cell_type": "code",
   "execution_count": null,
   "id": "61e3d885",
   "metadata": {},
   "outputs": [],
   "source": []
  },
  {
   "cell_type": "code",
   "execution_count": 4,
   "id": "812c267f",
   "metadata": {},
   "outputs": [
    {
     "name": "stdout",
     "output_type": "stream",
     "text": [
      "font_color_night\n",
      "font_color_night\n"
     ]
    }
   ],
   "source": [
    "dual.power_up()"
   ]
  },
  {
   "cell_type": "code",
   "execution_count": null,
   "id": "1b47a660",
   "metadata": {},
   "outputs": [],
   "source": []
  },
  {
   "cell_type": "code",
   "execution_count": null,
   "id": "b3a6110c",
   "metadata": {},
   "outputs": [],
   "source": []
  },
  {
   "cell_type": "code",
   "execution_count": null,
   "id": "062e7fb0",
   "metadata": {},
   "outputs": [],
   "source": []
  },
  {
   "cell_type": "code",
   "execution_count": null,
   "id": "6067c028",
   "metadata": {},
   "outputs": [],
   "source": [
    "dual.driver_display.save_userdb(\"key\", \"value\")"
   ]
  },
  {
   "cell_type": "code",
   "execution_count": null,
   "id": "5ad9ef09",
   "metadata": {},
   "outputs": [],
   "source": [
    "dual.driver_display.background"
   ]
  },
  {
   "cell_type": "code",
   "execution_count": null,
   "id": "426ad880",
   "metadata": {},
   "outputs": [],
   "source": []
  },
  {
   "cell_type": "code",
   "execution_count": null,
   "id": "9b53e9c9",
   "metadata": {},
   "outputs": [],
   "source": [
    "dual.driver_display.theme_setting.set_theme_night()"
   ]
  },
  {
   "cell_type": "code",
   "execution_count": null,
   "id": "3f6b887f",
   "metadata": {},
   "outputs": [],
   "source": [
    "dual.central_display.theme_setting.set_theme_night()"
   ]
  },
  {
   "cell_type": "code",
   "execution_count": null,
   "id": "d9627916",
   "metadata": {},
   "outputs": [],
   "source": [
    "dual.central_display.theme_setting.set_theme_day()"
   ]
  },
  {
   "cell_type": "code",
   "execution_count": null,
   "id": "3a061d27",
   "metadata": {},
   "outputs": [],
   "source": [
    "dual.driver_display.theme_setting.set_theme_day()"
   ]
  },
  {
   "cell_type": "code",
   "execution_count": null,
   "id": "ad2a2cb8",
   "metadata": {},
   "outputs": [],
   "source": [
    "help(dual.central_display)"
   ]
  },
  {
   "cell_type": "code",
   "execution_count": null,
   "id": "b00be9ac",
   "metadata": {},
   "outputs": [],
   "source": [
    "dual.central_display.box_color"
   ]
  },
  {
   "cell_type": "code",
   "execution_count": null,
   "id": "dcd550ed",
   "metadata": {},
   "outputs": [],
   "source": []
  },
  {
   "cell_type": "code",
   "execution_count": null,
   "id": "7f686992",
   "metadata": {},
   "outputs": [],
   "source": []
  },
  {
   "cell_type": "code",
   "execution_count": null,
   "id": "5c3231ae",
   "metadata": {},
   "outputs": [],
   "source": [
    "btn = widgets.Button(icon=\"home\")"
   ]
  },
  {
   "cell_type": "code",
   "execution_count": null,
   "id": "82dc321e",
   "metadata": {},
   "outputs": [],
   "source": [
    "btn"
   ]
  },
  {
   "cell_type": "code",
   "execution_count": null,
   "id": "f34faf72",
   "metadata": {},
   "outputs": [],
   "source": [
    "btn.layout= widgets.Layout(width=\"auto\")"
   ]
  },
  {
   "cell_type": "code",
   "execution_count": null,
   "id": "5afaced9",
   "metadata": {},
   "outputs": [],
   "source": []
  },
  {
   "cell_type": "code",
   "execution_count": null,
   "id": "5cde4dcf",
   "metadata": {},
   "outputs": [],
   "source": []
  },
  {
   "cell_type": "code",
   "execution_count": null,
   "id": "435e7944",
   "metadata": {},
   "outputs": [],
   "source": [
    "VEHICLE_SYSTEM_POWER_MODE_OPTIONS = [\n",
    "        (\"OFF\", 0),\n",
    "        (\"ACC\", 1),\n",
    "        (\"RUN\", 2),\n",
    "        (\"CRANK\", 3)\n",
    "    ]\n",
    "\n",
    "signal = UISignalEnum(\"SysPowerMode\", VEHICLE_SYSTEM_POWER_MODE_OPTIONS)"
   ]
  },
  {
   "cell_type": "code",
   "execution_count": null,
   "id": "daacd1ad",
   "metadata": {},
   "outputs": [],
   "source": [
    "signal"
   ]
  },
  {
   "cell_type": "code",
   "execution_count": null,
   "id": "b627a11f",
   "metadata": {},
   "outputs": [],
   "source": []
  },
  {
   "cell_type": "code",
   "execution_count": null,
   "id": "109eeb50",
   "metadata": {},
   "outputs": [],
   "source": [
    "html = widgets.HTML(\"<h3 style='background-color:#33475b'>Hello World!</h3>\")\n",
    "html"
   ]
  },
  {
   "cell_type": "code",
   "execution_count": null,
   "id": "98a187d9",
   "metadata": {},
   "outputs": [],
   "source": [
    "html.style = {\"text_color\": \"yellow\"}"
   ]
  },
  {
   "cell_type": "code",
   "execution_count": null,
   "id": "b14bc1a3",
   "metadata": {},
   "outputs": [],
   "source": [
    "help(html.style)"
   ]
  },
  {
   "cell_type": "code",
   "execution_count": null,
   "id": "c7b8d5de",
   "metadata": {},
   "outputs": [],
   "source": []
  }
 ],
 "metadata": {
  "kernelspec": {
   "display_name": "Python 3 (ipykernel)",
   "language": "python",
   "name": "python3"
  },
  "language_info": {
   "codemirror_mode": {
    "name": "ipython",
    "version": 3
   },
   "file_extension": ".py",
   "mimetype": "text/x-python",
   "name": "python",
   "nbconvert_exporter": "python",
   "pygments_lexer": "ipython3",
   "version": "3.9.7"
  }
 },
 "nbformat": 4,
 "nbformat_minor": 5
}
