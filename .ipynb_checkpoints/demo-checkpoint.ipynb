{
 "cells": [
  {
   "cell_type": "code",
   "execution_count": null,
   "id": "0f4e2630",
   "metadata": {},
   "outputs": [],
   "source": [
    "import ipywidgets as widgets"
   ]
  },
  {
   "cell_type": "markdown",
   "id": "05f70fb0",
   "metadata": {},
   "source": [
    "## Hardware Block Diagram\n",
    "![Hardware Block Diagram](res/images/)"
   ]
  },
  {
   "cell_type": "code",
   "execution_count": null,
   "id": "eca9e52a",
   "metadata": {},
   "outputs": [],
   "source": [
    "from customized.IviAvmCamPM import IviAvmCamPM_Platform, logging_handler"
   ]
  },
  {
   "cell_type": "code",
   "execution_count": null,
   "id": "1ee619d5",
   "metadata": {},
   "outputs": [],
   "source": [
    "ivi_avm = IviAvmCamPM_Platform()"
   ]
  },
  {
   "cell_type": "code",
   "execution_count": null,
   "id": "48ef979d",
   "metadata": {},
   "outputs": [],
   "source": [
    "ivi_avm"
   ]
  },
  {
   "cell_type": "code",
   "execution_count": null,
   "id": "52810651",
   "metadata": {},
   "outputs": [],
   "source": [
    "logging_handler.show_logs()"
   ]
  },
  {
   "cell_type": "code",
   "execution_count": null,
   "id": "2ea17681",
   "metadata": {},
   "outputs": [],
   "source": []
  }
 ],
 "metadata": {
  "kernelspec": {
   "display_name": "Python 3 (ipykernel)",
   "language": "python",
   "name": "python3"
  },
  "language_info": {
   "codemirror_mode": {
    "name": "ipython",
    "version": 3
   },
   "file_extension": ".py",
   "mimetype": "text/x-python",
   "name": "python",
   "nbconvert_exporter": "python",
   "pygments_lexer": "ipython3",
   "version": "3.9.7"
  }
 },
 "nbformat": 4,
 "nbformat_minor": 5
}
