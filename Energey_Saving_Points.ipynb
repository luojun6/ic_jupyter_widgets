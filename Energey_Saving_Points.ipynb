{
 "cells": [
  {
   "cell_type": "code",
   "execution_count": 1,
   "id": "eca9e52a",
   "metadata": {},
   "outputs": [],
   "source": [
    "from customized.IviAvmCamPMDemo import ivi_avm_pm_demo\n",
    "from customized.IviAvmCamDiagrams import ivi_avm_pm_diagrams\n",
    "from customized.DABPMDemo import dab_demo\n",
    "from customized.DABDiagrams import dab_pm_diagrams"
   ]
  },
  {
   "cell_type": "code",
   "execution_count": null,
   "id": "76907ee0",
   "metadata": {},
   "outputs": [],
   "source": []
  },
  {
   "cell_type": "markdown",
   "id": "88503331",
   "metadata": {},
   "source": [
    "# Energy Saving Point 1: Leaning AVM Cameras Power Management"
   ]
  },
  {
   "cell_type": "code",
   "execution_count": null,
   "id": "a41bf2ec",
   "metadata": {},
   "outputs": [],
   "source": [
    "ivi_avm_pm_demo"
   ]
  },
  {
   "cell_type": "code",
   "execution_count": null,
   "id": "89e7bb5e",
   "metadata": {},
   "outputs": [],
   "source": [
    "ivi_avm_pm_diagrams"
   ]
  },
  {
   "cell_type": "code",
   "execution_count": null,
   "id": "5f6e4717",
   "metadata": {},
   "outputs": [],
   "source": []
  },
  {
   "cell_type": "markdown",
   "id": "bf1060da",
   "metadata": {},
   "source": [
    "# Energy Saving Point 2: Leaning DAB Power Management"
   ]
  },
  {
   "cell_type": "code",
   "execution_count": 2,
   "id": "9326b584",
   "metadata": {},
   "outputs": [
    {
     "data": {
      "application/vnd.jupyter.widget-view+json": {
       "model_id": "86938f9fa59241e5b4ad224cef95d0fe",
       "version_major": 2,
       "version_minor": 0
      },
      "text/plain": [
       "DABPMDemo(children=(DABPM(children=(Output(layout=Layout(border='1px solid black', height='240px', width='320p…"
      ]
     },
     "metadata": {},
     "output_type": "display_data"
    }
   ],
   "source": [
    "dab_demo"
   ]
  },
  {
   "cell_type": "code",
   "execution_count": null,
   "id": "34c953c5",
   "metadata": {},
   "outputs": [],
   "source": [
    "dab_pm_diagrams"
   ]
  },
  {
   "cell_type": "code",
   "execution_count": null,
   "id": "8231e582",
   "metadata": {},
   "outputs": [],
   "source": []
  }
 ],
 "metadata": {
  "kernelspec": {
   "display_name": "Python 3 (ipykernel)",
   "language": "python",
   "name": "python3"
  },
  "language_info": {
   "codemirror_mode": {
    "name": "ipython",
    "version": 3
   },
   "file_extension": ".py",
   "mimetype": "text/x-python",
   "name": "python",
   "nbconvert_exporter": "python",
   "pygments_lexer": "ipython3",
   "version": "3.9.7"
  }
 },
 "nbformat": 4,
 "nbformat_minor": 5
}
