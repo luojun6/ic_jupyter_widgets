{
 "cells": [
  {
   "cell_type": "code",
   "execution_count": 1,
   "id": "eca9e52a",
   "metadata": {},
   "outputs": [],
   "source": [
    "from customized.IviAvmCamPMDemo import ivi_avm_pm_demo, logging_handler\n",
    "from customized.IviAvmCamDiagrams import ivi_avm_pm_diagrams"
   ]
  },
  {
   "cell_type": "code",
   "execution_count": null,
   "id": "47bff525",
   "metadata": {},
   "outputs": [],
   "source": []
  },
  {
   "cell_type": "markdown",
   "id": "6cd80546",
   "metadata": {},
   "source": [
    "# Energy Saving Point 1: Leaning AVM Cameras Power Management"
   ]
  },
  {
   "cell_type": "code",
   "execution_count": 3,
   "id": "a41bf2ec",
   "metadata": {},
   "outputs": [
    {
     "data": {
      "application/vnd.jupyter.widget-view+json": {
       "model_id": "888dda768c2f4c4da0d815582c5e6282",
       "version_major": 2,
       "version_minor": 0
      },
      "text/plain": [
       "IviAvmCamPMDemo_Platform(children=(IviAvmCamPMDemo(children=(HBox(children=(Output(layout=Layout(border='1px s…"
      ]
     },
     "metadata": {},
     "output_type": "display_data"
    }
   ],
   "source": [
    "ivi_avm_pm_demo"
   ]
  },
  {
   "cell_type": "code",
   "execution_count": 2,
   "id": "89e7bb5e",
   "metadata": {},
   "outputs": [
    {
     "data": {
      "application/vnd.jupyter.widget-view+json": {
       "model_id": "8959bda0a5f0409689daedd0446c73c3",
       "version_major": 2,
       "version_minor": 0
      },
      "text/plain": [
       "ImageDisplayer(children=(HTML(value='<h1>IVI AVM Cameras Power Management Diagrams</h1>'), Dropdown(index=2, o…"
      ]
     },
     "metadata": {},
     "output_type": "display_data"
    }
   ],
   "source": [
    "ivi_avm_pm_diagrams"
   ]
  },
  {
   "cell_type": "code",
   "execution_count": null,
   "id": "5f6e4717",
   "metadata": {},
   "outputs": [],
   "source": []
  },
  {
   "cell_type": "markdown",
   "id": "349a35ee",
   "metadata": {},
   "source": [
    "# Energy Saving Point 2: Leaning DAB Power Management"
   ]
  },
  {
   "cell_type": "code",
   "execution_count": null,
   "id": "9326b584",
   "metadata": {},
   "outputs": [],
   "source": []
  },
  {
   "cell_type": "code",
   "execution_count": null,
   "id": "34c953c5",
   "metadata": {},
   "outputs": [],
   "source": []
  },
  {
   "cell_type": "code",
   "execution_count": null,
   "id": "2f140bb8",
   "metadata": {},
   "outputs": [],
   "source": [
    "logging_handler.show_logs()"
   ]
  },
  {
   "cell_type": "code",
   "execution_count": null,
   "id": "8231e582",
   "metadata": {},
   "outputs": [],
   "source": []
  }
 ],
 "metadata": {
  "kernelspec": {
   "display_name": "Python 3 (ipykernel)",
   "language": "python",
   "name": "python3"
  },
  "language_info": {
   "codemirror_mode": {
    "name": "ipython",
    "version": 3
   },
   "file_extension": ".py",
   "mimetype": "text/x-python",
   "name": "python",
   "nbconvert_exporter": "python",
   "pygments_lexer": "ipython3",
   "version": "3.9.7"
  }
 },
 "nbformat": 4,
 "nbformat_minor": 5
}
