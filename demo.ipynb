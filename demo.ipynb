{
 "cells": [
  {
   "cell_type": "code",
   "execution_count": 1,
   "id": "c7cde9cc",
   "metadata": {},
   "outputs": [],
   "source": [
    "from customized.AVMCameraPM import AVMCameraPM, logging_handler"
   ]
  },
  {
   "cell_type": "code",
   "execution_count": null,
   "id": "6ba7044c",
   "metadata": {},
   "outputs": [],
   "source": []
  },
  {
   "cell_type": "code",
   "execution_count": 2,
   "id": "b59b006a",
   "metadata": {},
   "outputs": [],
   "source": [
    "avm_cam_pm = AVMCameraPM()"
   ]
  },
  {
   "cell_type": "code",
   "execution_count": 3,
   "id": "8cc83b21",
   "metadata": {},
   "outputs": [
    {
     "data": {
      "application/vnd.jupyter.widget-view+json": {
       "model_id": "fd9c56eb28224a2b8925d681f034df70",
       "version_major": 2,
       "version_minor": 0
      },
      "text/plain": [
       "VBox(children=(HBox(children=(UICamera(value='OFF', description='front_cam', disabled=True, icon='camera', sty…"
      ]
     },
     "metadata": {},
     "output_type": "display_data"
    }
   ],
   "source": [
    "avm_cam_pm.display()"
   ]
  },
  {
   "cell_type": "code",
   "execution_count": 4,
   "id": "72726560",
   "metadata": {},
   "outputs": [
    {
     "data": {
      "application/vnd.jupyter.widget-view+json": {
       "model_id": "10c3b9e2bf354d1c85fb174999563ad7",
       "version_major": 2,
       "version_minor": 0
      },
      "text/plain": [
       "Output(layout=Layout(border='1px solid black', height='160px', width='100%'))"
      ]
     },
     "metadata": {},
     "output_type": "display_data"
    }
   ],
   "source": [
    "logging_handler.show_logs()"
   ]
  },
  {
   "cell_type": "code",
   "execution_count": 5,
   "id": "655a81f6",
   "metadata": {},
   "outputs": [],
   "source": [
    "avm_cam_pm.power_on()"
   ]
  },
  {
   "cell_type": "code",
   "execution_count": null,
   "id": "204fb549",
   "metadata": {},
   "outputs": [],
   "source": []
  },
  {
   "cell_type": "code",
   "execution_count": null,
   "id": "ad0cfe15",
   "metadata": {},
   "outputs": [],
   "source": []
  },
  {
   "cell_type": "code",
   "execution_count": null,
   "id": "c9faa551",
   "metadata": {},
   "outputs": [],
   "source": []
  },
  {
   "cell_type": "code",
   "execution_count": null,
   "id": "ee311d8e",
   "metadata": {},
   "outputs": [],
   "source": []
  },
  {
   "cell_type": "code",
   "execution_count": null,
   "id": "593d8325",
   "metadata": {},
   "outputs": [],
   "source": []
  },
  {
   "cell_type": "code",
   "execution_count": null,
   "id": "9d00df63",
   "metadata": {},
   "outputs": [],
   "source": []
  },
  {
   "cell_type": "code",
   "execution_count": null,
   "id": "56907afb",
   "metadata": {},
   "outputs": [],
   "source": []
  },
  {
   "cell_type": "code",
   "execution_count": null,
   "id": "05ad8d74",
   "metadata": {},
   "outputs": [],
   "source": []
  },
  {
   "cell_type": "code",
   "execution_count": null,
   "id": "594a7924",
   "metadata": {},
   "outputs": [],
   "source": []
  },
  {
   "cell_type": "code",
   "execution_count": null,
   "id": "2932377f",
   "metadata": {},
   "outputs": [],
   "source": [
    "from common.UICamera import UICamera, logging_handler, AVMCameraSet"
   ]
  },
  {
   "cell_type": "code",
   "execution_count": null,
   "id": "6f0c0c42",
   "metadata": {},
   "outputs": [],
   "source": []
  },
  {
   "cell_type": "code",
   "execution_count": null,
   "id": "1a351f2a",
   "metadata": {},
   "outputs": [],
   "source": []
  },
  {
   "cell_type": "code",
   "execution_count": null,
   "id": "9a196a5b",
   "metadata": {},
   "outputs": [],
   "source": []
  },
  {
   "cell_type": "code",
   "execution_count": null,
   "id": "729a5e3d",
   "metadata": {},
   "outputs": [],
   "source": []
  },
  {
   "cell_type": "code",
   "execution_count": null,
   "id": "4a45d71c",
   "metadata": {},
   "outputs": [],
   "source": [
    "cam = UICamera()"
   ]
  },
  {
   "cell_type": "code",
   "execution_count": null,
   "id": "f3e2158a",
   "metadata": {},
   "outputs": [],
   "source": []
  },
  {
   "cell_type": "code",
   "execution_count": null,
   "id": "7f33bfef",
   "metadata": {},
   "outputs": [],
   "source": [
    "cam"
   ]
  },
  {
   "cell_type": "code",
   "execution_count": null,
   "id": "8d148d7d",
   "metadata": {},
   "outputs": [],
   "source": [
    "cam.power_on()"
   ]
  },
  {
   "cell_type": "code",
   "execution_count": null,
   "id": "60e7d6e3",
   "metadata": {},
   "outputs": [],
   "source": [
    "cam.power_off()"
   ]
  },
  {
   "cell_type": "code",
   "execution_count": null,
   "id": "88c8365b",
   "metadata": {},
   "outputs": [],
   "source": []
  },
  {
   "cell_type": "code",
   "execution_count": null,
   "id": "cf3fa4a3",
   "metadata": {},
   "outputs": [],
   "source": [
    "avm_cameras = AVMCameraSet()"
   ]
  },
  {
   "cell_type": "code",
   "execution_count": null,
   "id": "7a391280",
   "metadata": {},
   "outputs": [],
   "source": [
    "avm_cameras.display()"
   ]
  },
  {
   "cell_type": "code",
   "execution_count": null,
   "id": "3b9ec875",
   "metadata": {},
   "outputs": [],
   "source": [
    "avm_cameras.power_on_all()"
   ]
  },
  {
   "cell_type": "code",
   "execution_count": null,
   "id": "25e8b311",
   "metadata": {},
   "outputs": [],
   "source": [
    "avm_cameras.power_off_all()"
   ]
  },
  {
   "cell_type": "code",
   "execution_count": null,
   "id": "acea0a92",
   "metadata": {},
   "outputs": [],
   "source": [
    "logging_handler.show_logs()"
   ]
  },
  {
   "cell_type": "code",
   "execution_count": null,
   "id": "eca9e52a",
   "metadata": {},
   "outputs": [],
   "source": []
  }
 ],
 "metadata": {
  "kernelspec": {
   "display_name": "Python 3 (ipykernel)",
   "language": "python",
   "name": "python3"
  },
  "language_info": {
   "codemirror_mode": {
    "name": "ipython",
    "version": 3
   },
   "file_extension": ".py",
   "mimetype": "text/x-python",
   "name": "python",
   "nbconvert_exporter": "python",
   "pygments_lexer": "ipython3",
   "version": "3.9.7"
  }
 },
 "nbformat": 4,
 "nbformat_minor": 5
}
