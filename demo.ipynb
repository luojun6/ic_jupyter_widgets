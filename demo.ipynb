{
 "cells": [
  {
   "cell_type": "code",
   "execution_count": 1,
   "id": "0f4e2630",
   "metadata": {},
   "outputs": [],
   "source": [
    "import ipywidgets as widgets"
   ]
  },
  {
   "cell_type": "code",
   "execution_count": 2,
   "id": "e1416863",
   "metadata": {},
   "outputs": [
    {
     "data": {
      "application/vnd.jupyter.widget-view+json": {
       "model_id": "468ba0e8b92641cbae385609d4021dba",
       "version_major": 2,
       "version_minor": 0
      },
      "text/plain": [
       "Button(description='click me to raise an exception', layout=Layout(width='300px'), style=ButtonStyle())"
      ]
     },
     "metadata": {},
     "output_type": "display_data"
    }
   ],
   "source": [
    "debug_view = widgets.Output(layout={'border': '1px solid black'})\n",
    "\n",
    "@debug_view.capture(clear_output=True)\n",
    "def bad_callback(event):\n",
    "    print('This is about to explode')\n",
    "    return 1.0 / 0.0\n",
    "\n",
    "button = widgets.Button(\n",
    "    description='click me to raise an exception',\n",
    "    layout={'width': '300px'}\n",
    ")\n",
    "button.on_click(bad_callback)\n",
    "button"
   ]
  },
  {
   "cell_type": "code",
   "execution_count": 3,
   "id": "4d6788f4",
   "metadata": {},
   "outputs": [
    {
     "data": {
      "application/vnd.jupyter.widget-view+json": {
       "model_id": "888a06fdee1a4601879a34dabd0bd21b",
       "version_major": 2,
       "version_minor": 0
      },
      "text/plain": [
       "Output(layout=Layout(border='1px solid black'))"
      ]
     },
     "metadata": {},
     "output_type": "display_data"
    }
   ],
   "source": [
    "debug_view"
   ]
  },
  {
   "cell_type": "code",
   "execution_count": null,
   "id": "6e4119fa",
   "metadata": {},
   "outputs": [],
   "source": []
  },
  {
   "cell_type": "code",
   "execution_count": null,
   "id": "6811400a",
   "metadata": {},
   "outputs": [],
   "source": [
    "out = widgets.Output(layout={'border': '1px solid black', \"height\": \"200px\", \"width\": \"300px\"})"
   ]
  },
  {
   "cell_type": "code",
   "execution_count": null,
   "id": "4ecd4cef",
   "metadata": {},
   "outputs": [],
   "source": [
    "out"
   ]
  },
  {
   "cell_type": "code",
   "execution_count": null,
   "id": "34076020",
   "metadata": {},
   "outputs": [],
   "source": [
    "out.clear_output()"
   ]
  },
  {
   "cell_type": "code",
   "execution_count": null,
   "id": "ab123c42",
   "metadata": {},
   "outputs": [],
   "source": []
  },
  {
   "cell_type": "code",
   "execution_count": null,
   "id": "4b080b02",
   "metadata": {},
   "outputs": [],
   "source": [
    "file_0 = open(\"res/images/ivi_home_example.jpg\", \"rb\")\n",
    "image_0 = file_0.read()\n",
    "img_0 = widgets.Image(\n",
    "    value=image_0,\n",
    "    format='jpg',\n",
    "    width=300,\n",
    "    height=400,\n",
    ")\n",
    "\n",
    "file_1 = open(\"res/images/avm360_example.jpg\", \"rb\")\n",
    "image_1 = file_1.read()\n",
    "img_1 = widgets.Image(\n",
    "    value=image_1,\n",
    "    format='jpg',\n",
    "    width=300,\n",
    "    height=400,\n",
    ")"
   ]
  },
  {
   "cell_type": "code",
   "execution_count": null,
   "id": "02b9f1b0",
   "metadata": {},
   "outputs": [],
   "source": [
    "with out:\n",
    "    display(img_0)"
   ]
  },
  {
   "cell_type": "code",
   "execution_count": null,
   "id": "da523e71",
   "metadata": {},
   "outputs": [],
   "source": [
    "img_0"
   ]
  },
  {
   "cell_type": "code",
   "execution_count": null,
   "id": "df19edcb",
   "metadata": {},
   "outputs": [],
   "source": [
    "img_0.open()"
   ]
  },
  {
   "cell_type": "code",
   "execution_count": null,
   "id": "6dc49a78",
   "metadata": {},
   "outputs": [],
   "source": [
    "help(img_0)"
   ]
  },
  {
   "cell_type": "code",
   "execution_count": null,
   "id": "619b4951",
   "metadata": {},
   "outputs": [],
   "source": []
  },
  {
   "cell_type": "code",
   "execution_count": null,
   "id": "903d8180",
   "metadata": {},
   "outputs": [],
   "source": []
  },
  {
   "cell_type": "code",
   "execution_count": null,
   "id": "a1dc4867",
   "metadata": {},
   "outputs": [],
   "source": []
  },
  {
   "cell_type": "code",
   "execution_count": null,
   "id": "60a4c809",
   "metadata": {},
   "outputs": [],
   "source": [
    "from common.UISystemPowerMode import UISystemPowerModeDropdown\n",
    "sys_pwr_mode = UISystemPowerModeDropdown()\n",
    "sys_pwr_mode"
   ]
  },
  {
   "cell_type": "code",
   "execution_count": null,
   "id": "7a5099b1",
   "metadata": {},
   "outputs": [],
   "source": []
  },
  {
   "cell_type": "code",
   "execution_count": null,
   "id": "01d68f09",
   "metadata": {},
   "outputs": [],
   "source": []
  },
  {
   "cell_type": "code",
   "execution_count": null,
   "id": "155f2f16",
   "metadata": {},
   "outputs": [],
   "source": [
    "from common.UISpeedSlider import UISpeedSlider, logging_handler\n",
    "speed = UISpeedSlider()\n",
    "speed"
   ]
  },
  {
   "cell_type": "code",
   "execution_count": null,
   "id": "c5e86578",
   "metadata": {},
   "outputs": [],
   "source": []
  },
  {
   "cell_type": "code",
   "execution_count": null,
   "id": "c0f0bb71",
   "metadata": {},
   "outputs": [],
   "source": []
  },
  {
   "cell_type": "code",
   "execution_count": null,
   "id": "01f55861",
   "metadata": {},
   "outputs": [],
   "source": []
  },
  {
   "cell_type": "code",
   "execution_count": null,
   "id": "169e00fb",
   "metadata": {},
   "outputs": [],
   "source": [
    "logging_handler.show_logs()"
   ]
  },
  {
   "cell_type": "code",
   "execution_count": null,
   "id": "01510b52",
   "metadata": {},
   "outputs": [],
   "source": []
  },
  {
   "cell_type": "code",
   "execution_count": null,
   "id": "5c0264fd",
   "metadata": {},
   "outputs": [],
   "source": []
  },
  {
   "cell_type": "code",
   "execution_count": null,
   "id": "c7cde9cc",
   "metadata": {},
   "outputs": [],
   "source": [
    "from customized.AVMCameraPM import AVMCameraPM, logging_handler"
   ]
  },
  {
   "cell_type": "code",
   "execution_count": null,
   "id": "6ba7044c",
   "metadata": {},
   "outputs": [],
   "source": []
  },
  {
   "cell_type": "code",
   "execution_count": null,
   "id": "b59b006a",
   "metadata": {},
   "outputs": [],
   "source": [
    "avm_cam_pm = AVMCameraPM()"
   ]
  },
  {
   "cell_type": "code",
   "execution_count": null,
   "id": "8cc83b21",
   "metadata": {},
   "outputs": [],
   "source": [
    "avm_cam_pm.display()"
   ]
  },
  {
   "cell_type": "code",
   "execution_count": null,
   "id": "72726560",
   "metadata": {},
   "outputs": [],
   "source": [
    "logging_handler.show_logs()"
   ]
  },
  {
   "cell_type": "code",
   "execution_count": null,
   "id": "655a81f6",
   "metadata": {},
   "outputs": [],
   "source": [
    "avm_cam_pm.power_on()"
   ]
  },
  {
   "cell_type": "code",
   "execution_count": null,
   "id": "204fb549",
   "metadata": {},
   "outputs": [],
   "source": []
  },
  {
   "cell_type": "code",
   "execution_count": null,
   "id": "ad0cfe15",
   "metadata": {},
   "outputs": [],
   "source": []
  },
  {
   "cell_type": "code",
   "execution_count": null,
   "id": "c9faa551",
   "metadata": {},
   "outputs": [],
   "source": []
  },
  {
   "cell_type": "code",
   "execution_count": null,
   "id": "ee311d8e",
   "metadata": {},
   "outputs": [],
   "source": []
  },
  {
   "cell_type": "code",
   "execution_count": null,
   "id": "593d8325",
   "metadata": {},
   "outputs": [],
   "source": []
  },
  {
   "cell_type": "code",
   "execution_count": null,
   "id": "9d00df63",
   "metadata": {},
   "outputs": [],
   "source": []
  },
  {
   "cell_type": "code",
   "execution_count": null,
   "id": "56907afb",
   "metadata": {},
   "outputs": [],
   "source": []
  },
  {
   "cell_type": "code",
   "execution_count": null,
   "id": "05ad8d74",
   "metadata": {},
   "outputs": [],
   "source": []
  },
  {
   "cell_type": "code",
   "execution_count": null,
   "id": "594a7924",
   "metadata": {},
   "outputs": [],
   "source": []
  },
  {
   "cell_type": "code",
   "execution_count": null,
   "id": "2932377f",
   "metadata": {},
   "outputs": [],
   "source": [
    "from common.UICamera import UICamera, logging_handler, AVMCameraSet"
   ]
  },
  {
   "cell_type": "code",
   "execution_count": null,
   "id": "6f0c0c42",
   "metadata": {},
   "outputs": [],
   "source": []
  },
  {
   "cell_type": "code",
   "execution_count": null,
   "id": "1a351f2a",
   "metadata": {},
   "outputs": [],
   "source": []
  },
  {
   "cell_type": "code",
   "execution_count": null,
   "id": "9a196a5b",
   "metadata": {},
   "outputs": [],
   "source": []
  },
  {
   "cell_type": "code",
   "execution_count": null,
   "id": "729a5e3d",
   "metadata": {},
   "outputs": [],
   "source": []
  },
  {
   "cell_type": "code",
   "execution_count": null,
   "id": "4a45d71c",
   "metadata": {},
   "outputs": [],
   "source": [
    "cam = UICamera()"
   ]
  },
  {
   "cell_type": "code",
   "execution_count": null,
   "id": "f3e2158a",
   "metadata": {},
   "outputs": [],
   "source": []
  },
  {
   "cell_type": "code",
   "execution_count": null,
   "id": "7f33bfef",
   "metadata": {},
   "outputs": [],
   "source": [
    "cam"
   ]
  },
  {
   "cell_type": "code",
   "execution_count": null,
   "id": "8d148d7d",
   "metadata": {},
   "outputs": [],
   "source": [
    "cam.power_on()"
   ]
  },
  {
   "cell_type": "code",
   "execution_count": null,
   "id": "60e7d6e3",
   "metadata": {},
   "outputs": [],
   "source": [
    "cam.power_off()"
   ]
  },
  {
   "cell_type": "code",
   "execution_count": null,
   "id": "88c8365b",
   "metadata": {},
   "outputs": [],
   "source": []
  },
  {
   "cell_type": "code",
   "execution_count": null,
   "id": "cf3fa4a3",
   "metadata": {},
   "outputs": [],
   "source": [
    "avm_cameras = AVMCameraSet()"
   ]
  },
  {
   "cell_type": "code",
   "execution_count": null,
   "id": "7a391280",
   "metadata": {},
   "outputs": [],
   "source": [
    "avm_cameras.display()"
   ]
  },
  {
   "cell_type": "code",
   "execution_count": null,
   "id": "3b9ec875",
   "metadata": {},
   "outputs": [],
   "source": [
    "avm_cameras.power_on_all()"
   ]
  },
  {
   "cell_type": "code",
   "execution_count": null,
   "id": "25e8b311",
   "metadata": {},
   "outputs": [],
   "source": [
    "avm_cameras.power_off_all()"
   ]
  },
  {
   "cell_type": "code",
   "execution_count": null,
   "id": "acea0a92",
   "metadata": {},
   "outputs": [],
   "source": [
    "logging_handler.show_logs()"
   ]
  },
  {
   "cell_type": "code",
   "execution_count": null,
   "id": "eca9e52a",
   "metadata": {},
   "outputs": [],
   "source": []
  }
 ],
 "metadata": {
  "kernelspec": {
   "display_name": "Python 3",
   "language": "python",
   "name": "python3"
  },
  "language_info": {
   "codemirror_mode": {
    "name": "ipython",
    "version": 3
   },
   "file_extension": ".py",
   "mimetype": "text/x-python",
   "name": "python",
   "nbconvert_exporter": "python",
   "pygments_lexer": "ipython3",
   "version": "3.8.8"
  }
 },
 "nbformat": 4,
 "nbformat_minor": 5
}
