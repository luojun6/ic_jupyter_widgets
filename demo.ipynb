{
 "cells": [
  {
   "cell_type": "code",
   "execution_count": 1,
   "id": "fe7ccee0",
   "metadata": {},
   "outputs": [],
   "source": [
    "from common.UISystemPower import *"
   ]
  },
  {
   "cell_type": "code",
   "execution_count": 2,
   "id": "dc6394c6",
   "metadata": {},
   "outputs": [],
   "source": [
    "sysPwrMd = UIVehicleSystemPowerModeDropdown()"
   ]
  },
  {
   "cell_type": "code",
   "execution_count": 3,
   "id": "fccad2c2",
   "metadata": {},
   "outputs": [
    {
     "data": {
      "application/vnd.jupyter.widget-view+json": {
       "model_id": "e989db29271a42ea9eae7b08f805cbaa",
       "version_major": 2,
       "version_minor": 0
      },
      "text/plain": [
       "UIVehicleSystemPowerModeDropdown(description='SysPowerMode', layout=Layout(display='flex', flex_flow='row', ju…"
      ]
     },
     "metadata": {},
     "output_type": "display_data"
    }
   ],
   "source": [
    "sysPwrMd"
   ]
  },
  {
   "cell_type": "code",
   "execution_count": null,
   "id": "abdb1072",
   "metadata": {},
   "outputs": [],
   "source": []
  },
  {
   "cell_type": "code",
   "execution_count": null,
   "id": "b7370a50",
   "metadata": {},
   "outputs": [],
   "source": []
  }
 ],
 "metadata": {
  "kernelspec": {
   "display_name": "Python 3 (ipykernel)",
   "language": "python",
   "name": "python3"
  },
  "language_info": {
   "codemirror_mode": {
    "name": "ipython",
    "version": 3
   },
   "file_extension": ".py",
   "mimetype": "text/x-python",
   "name": "python",
   "nbconvert_exporter": "python",
   "pygments_lexer": "ipython3",
   "version": "3.9.7"
  }
 },
 "nbformat": 4,
 "nbformat_minor": 5
}
