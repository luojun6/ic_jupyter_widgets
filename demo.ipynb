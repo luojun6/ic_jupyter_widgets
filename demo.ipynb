{
 "cells": [
  {
   "cell_type": "code",
   "execution_count": 1,
   "id": "5f6f7acf",
   "metadata": {},
   "outputs": [],
   "source": [
    "import ipywidgets as widgets\n",
    "from components.DualDisplay import *\n",
    "from components.UISignal import *"
   ]
  },
  {
   "cell_type": "code",
   "execution_count": 2,
   "id": "0ab00690",
   "metadata": {},
   "outputs": [
    {
     "data": {
      "text/html": [
       "<style>\n",
       ".screen_off{\n",
       "    background-color:black;\n",
       "}\n",
       ".font_color_day{\n",
       "    color: blue;\n",
       "}\n",
       ".font_color_night{\n",
       "    color: yellow;\n",
       "}\n",
       ".theme_day{\n",
       "    background-color:#F9F9F9;\n",
       "}\n",
       ".theme_night{\n",
       "    background-color:#1E1E1E;\n",
       "}\n",
       "</style>\n"
      ],
      "text/plain": [
       "<IPython.core.display.HTML object>"
      ]
     },
     "metadata": {},
     "output_type": "display_data"
    }
   ],
   "source": [
    "%%html\n",
    "<style>\n",
    ".screen_off{\n",
    "    background-color:black;\n",
    "}\n",
    ".font_color_day{\n",
    "    color: blue;\n",
    "}\n",
    ".font_color_night{\n",
    "    color: yellow;\n",
    "}\n",
    ".theme_day{\n",
    "    background-color:#F9F9F9;\n",
    "}\n",
    ".theme_night{\n",
    "    background-color:#1E1E1E;\n",
    "}\n",
    "</style>"
   ]
  },
  {
   "cell_type": "code",
   "execution_count": 3,
   "id": "27fe66d9",
   "metadata": {},
   "outputs": [
    {
     "data": {
      "application/vnd.jupyter.widget-view+json": {
       "model_id": "467e8e9914c24bc4866754e27f065271",
       "version_major": 2,
       "version_minor": 0
      },
      "text/plain": [
       "DualDisplay(children=(DriverDisplay(children=(Output(), Output(layout=Layout(align_items='center', justify_con…"
      ]
     },
     "metadata": {},
     "output_type": "display_data"
    }
   ],
   "source": [
    "dual = DualDisplay()\n",
    "dual"
   ]
  },
  {
   "cell_type": "code",
   "execution_count": null,
   "id": "3c6dcae4",
   "metadata": {},
   "outputs": [],
   "source": []
  },
  {
   "cell_type": "code",
   "execution_count": 4,
   "id": "86857585",
   "metadata": {},
   "outputs": [],
   "source": [
    "dual.power_up()"
   ]
  },
  {
   "cell_type": "code",
   "execution_count": null,
   "id": "63d4e323",
   "metadata": {},
   "outputs": [],
   "source": []
  },
  {
   "cell_type": "code",
   "execution_count": null,
   "id": "d15096e3",
   "metadata": {},
   "outputs": [],
   "source": []
  },
  {
   "cell_type": "code",
   "execution_count": null,
   "id": "4a2a7445",
   "metadata": {},
   "outputs": [],
   "source": []
  },
  {
   "cell_type": "code",
   "execution_count": null,
   "id": "5a705f55",
   "metadata": {},
   "outputs": [],
   "source": [
    "dual.driver_display.save_userdb(\"key\", \"value\")"
   ]
  },
  {
   "cell_type": "code",
   "execution_count": null,
   "id": "0988684d",
   "metadata": {},
   "outputs": [],
   "source": [
    "dual.driver_display.background"
   ]
  },
  {
   "cell_type": "code",
   "execution_count": null,
   "id": "892b267c",
   "metadata": {},
   "outputs": [],
   "source": []
  },
  {
   "cell_type": "code",
   "execution_count": null,
   "id": "4e84649b",
   "metadata": {},
   "outputs": [],
   "source": [
    "dual.driver_display.theme_setting.set_theme_night()"
   ]
  },
  {
   "cell_type": "code",
   "execution_count": null,
   "id": "c3a6fb54",
   "metadata": {},
   "outputs": [],
   "source": [
    "dual.central_display.theme_setting.set_theme_night()"
   ]
  },
  {
   "cell_type": "code",
   "execution_count": null,
   "id": "4f70f942",
   "metadata": {},
   "outputs": [],
   "source": [
    "dual.central_display.theme_setting.set_theme_day()"
   ]
  },
  {
   "cell_type": "code",
   "execution_count": null,
   "id": "ceaf2d47",
   "metadata": {},
   "outputs": [],
   "source": [
    "dual.driver_display.theme_setting.set_theme_day()"
   ]
  },
  {
   "cell_type": "code",
   "execution_count": null,
   "id": "09998ade",
   "metadata": {},
   "outputs": [],
   "source": [
    "help(dual.central_display)"
   ]
  },
  {
   "cell_type": "code",
   "execution_count": null,
   "id": "87458ef6",
   "metadata": {},
   "outputs": [],
   "source": [
    "dual.central_display.box_color"
   ]
  },
  {
   "cell_type": "code",
   "execution_count": null,
   "id": "d66e0c0a",
   "metadata": {},
   "outputs": [],
   "source": []
  },
  {
   "cell_type": "code",
   "execution_count": null,
   "id": "ad58e2ab",
   "metadata": {},
   "outputs": [],
   "source": []
  },
  {
   "cell_type": "code",
   "execution_count": null,
   "id": "71ebfa37",
   "metadata": {},
   "outputs": [],
   "source": [
    "btn = widgets.Button(icon=\"home\")"
   ]
  },
  {
   "cell_type": "code",
   "execution_count": null,
   "id": "e03e753c",
   "metadata": {},
   "outputs": [],
   "source": [
    "btn"
   ]
  },
  {
   "cell_type": "code",
   "execution_count": null,
   "id": "aee0fe95",
   "metadata": {},
   "outputs": [],
   "source": [
    "btn.layout= widgets.Layout(width=\"auto\")"
   ]
  },
  {
   "cell_type": "code",
   "execution_count": null,
   "id": "a4015979",
   "metadata": {},
   "outputs": [],
   "source": []
  },
  {
   "cell_type": "code",
   "execution_count": null,
   "id": "0b00903a",
   "metadata": {},
   "outputs": [],
   "source": []
  },
  {
   "cell_type": "code",
   "execution_count": null,
   "id": "1a2af2ea",
   "metadata": {},
   "outputs": [],
   "source": [
    "VEHICLE_SYSTEM_POWER_MODE_OPTIONS = [\n",
    "        (\"OFF\", 0),\n",
    "        (\"ACC\", 1),\n",
    "        (\"RUN\", 2),\n",
    "        (\"CRANK\", 3)\n",
    "    ]\n",
    "\n",
    "signal = UISignalEnum(\"SysPowerMode\", VEHICLE_SYSTEM_POWER_MODE_OPTIONS)"
   ]
  },
  {
   "cell_type": "code",
   "execution_count": null,
   "id": "8759564d",
   "metadata": {},
   "outputs": [],
   "source": [
    "signal"
   ]
  },
  {
   "cell_type": "code",
   "execution_count": null,
   "id": "6f66ea12",
   "metadata": {},
   "outputs": [],
   "source": []
  },
  {
   "cell_type": "code",
   "execution_count": null,
   "id": "c4b83e5b",
   "metadata": {},
   "outputs": [],
   "source": [
    "html = widgets.HTML(\"<h3 style='background-color:#33475b'>Hello World!</h3>\")\n",
    "html"
   ]
  },
  {
   "cell_type": "code",
   "execution_count": null,
   "id": "7028ba95",
   "metadata": {},
   "outputs": [],
   "source": [
    "html.style = {\"text_color\": \"yellow\"}"
   ]
  },
  {
   "cell_type": "code",
   "execution_count": null,
   "id": "94080ff8",
   "metadata": {},
   "outputs": [],
   "source": [
    "help(html.style)"
   ]
  },
  {
   "cell_type": "code",
   "execution_count": null,
   "id": "8daac203",
   "metadata": {},
   "outputs": [],
   "source": []
  }
 ],
 "metadata": {
  "kernelspec": {
   "display_name": "Python 3 (ipykernel)",
   "language": "python",
   "name": "python3"
  },
  "language_info": {
   "codemirror_mode": {
    "name": "ipython",
    "version": 3
   },
   "file_extension": ".py",
   "mimetype": "text/x-python",
   "name": "python",
   "nbconvert_exporter": "python",
   "pygments_lexer": "ipython3",
   "version": "3.9.7"
  }
 },
 "nbformat": 4,
 "nbformat_minor": 5
}
