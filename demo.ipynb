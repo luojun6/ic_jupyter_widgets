{
 "cells": [
  {
   "cell_type": "code",
   "execution_count": 1,
   "id": "08df6917",
   "metadata": {},
   "outputs": [],
   "source": [
    "import ipywidgets as widgets\n",
    "from components.virtual_cluster import *"
   ]
  },
  {
   "cell_type": "code",
   "execution_count": 2,
   "id": "de9d9198",
   "metadata": {},
   "outputs": [
    {
     "data": {
      "text/html": [
       "<style>\n",
       ".screen_off{\n",
       "    background-color:black;\n",
       "}\n",
       ".font_color_day{\n",
       "    color: blue;\n",
       "}\n",
       ".font_color_night{\n",
       "    color: yellow;\n",
       "}\n",
       ".theme_day{\n",
       "    background-color:#F9F9F9;\n",
       "}\n",
       ".theme_night{\n",
       "    background-color:#1E1E1E;\n",
       "}\n",
       "</style>\n"
      ],
      "text/plain": [
       "<IPython.core.display.HTML object>"
      ]
     },
     "metadata": {},
     "output_type": "display_data"
    }
   ],
   "source": [
    "%%html\n",
    "<style>\n",
    ".screen_off{\n",
    "    background-color:black;\n",
    "}\n",
    ".font_color_day{\n",
    "    color: blue;\n",
    "}\n",
    ".font_color_night{\n",
    "    color: yellow;\n",
    "}\n",
    ".theme_day{\n",
    "    background-color:#F9F9F9;\n",
    "}\n",
    ".theme_night{\n",
    "    background-color:#1E1E1E;\n",
    "}\n",
    "</style>"
   ]
  },
  {
   "cell_type": "code",
   "execution_count": 3,
   "id": "554cc734",
   "metadata": {},
   "outputs": [
    {
     "data": {
      "application/vnd.jupyter.widget-view+json": {
       "model_id": "19afbab4b63a4139999cc1dfedb90b93",
       "version_major": 2,
       "version_minor": 0
      },
      "text/plain": [
       "VirtualCluster(children=(DualDisplay(children=(DriverDisplay(children=(Output(), Output(layout=Layout(align_it…"
      ]
     },
     "metadata": {},
     "output_type": "display_data"
    }
   ],
   "source": [
    "vc = VirtualCluster()\n",
    "vc"
   ]
  },
  {
   "cell_type": "code",
   "execution_count": null,
   "id": "f9de61d4",
   "metadata": {},
   "outputs": [],
   "source": []
  },
  {
   "cell_type": "code",
   "execution_count": 4,
   "id": "ae24f70d",
   "metadata": {},
   "outputs": [
    {
     "data": {
      "application/vnd.jupyter.widget-view+json": {
       "model_id": "b6344c86457243d0b288af41ffa93f01",
       "version_major": 2,
       "version_minor": 0
      },
      "text/plain": [
       "Output(layout=Layout(border='1px solid black', height='160px', width='100%'))"
      ]
     },
     "metadata": {},
     "output_type": "display_data"
    }
   ],
   "source": [
    "logging_handler.show_logs()"
   ]
  },
  {
   "cell_type": "code",
   "execution_count": null,
   "id": "17b9435d",
   "metadata": {},
   "outputs": [],
   "source": [
    "vc.signals_cluster.signal_wigdets_dict[\"VehLckngSts\"].value"
   ]
  },
  {
   "cell_type": "code",
   "execution_count": null,
   "id": "05e82c46",
   "metadata": {},
   "outputs": [],
   "source": []
  }
 ],
 "metadata": {
  "kernelspec": {
   "display_name": "Python 3 (ipykernel)",
   "language": "python",
   "name": "python3"
  },
  "language_info": {
   "codemirror_mode": {
    "name": "ipython",
    "version": 3
   },
   "file_extension": ".py",
   "mimetype": "text/x-python",
   "name": "python",
   "nbconvert_exporter": "python",
   "pygments_lexer": "ipython3",
   "version": "3.9.7"
  }
 },
 "nbformat": 4,
 "nbformat_minor": 5
}
