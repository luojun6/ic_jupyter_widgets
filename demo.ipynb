{
 "cells": [
  {
   "cell_type": "code",
   "execution_count": 1,
   "id": "08df6917",
   "metadata": {},
   "outputs": [],
   "source": [
    "import ipywidgets as widgets\n",
    "from components.virtual_cluster import *"
   ]
  },
  {
   "cell_type": "code",
   "execution_count": 2,
   "id": "de9d9198",
   "metadata": {},
   "outputs": [
    {
     "data": {
      "text/html": [
       "<style>\n",
       ".screen_off{\n",
       "    background-color:black;\n",
       "}\n",
       ".font_color_day{\n",
       "    color: blue;\n",
       "}\n",
       ".font_color_night{\n",
       "    color: yellow;\n",
       "}\n",
       ".theme_day{\n",
       "    background-color:#F9F9F9;\n",
       "}\n",
       ".theme_night{\n",
       "    background-color:#1E1E1E;\n",
       "}\n",
       "</style>\n"
      ],
      "text/plain": [
       "<IPython.core.display.HTML object>"
      ]
     },
     "metadata": {},
     "output_type": "display_data"
    }
   ],
   "source": [
    "%%html\n",
    "<style>\n",
    ".screen_off{\n",
    "    background-color:black;\n",
    "}\n",
    ".font_color_day{\n",
    "    color: blue;\n",
    "}\n",
    ".font_color_night{\n",
    "    color: yellow;\n",
    "}\n",
    ".theme_day{\n",
    "    background-color:#F9F9F9;\n",
    "}\n",
    ".theme_night{\n",
    "    background-color:#1E1E1E;\n",
    "}\n",
    "</style>"
   ]
  },
  {
   "cell_type": "code",
   "execution_count": 3,
   "id": "b348fec4",
   "metadata": {},
   "outputs": [
    {
     "data": {
      "application/vnd.jupyter.widget-view+json": {
       "model_id": "4dd7cef496194b8caa3a7488c9c6e8ea",
       "version_major": 2,
       "version_minor": 0
      },
      "text/plain": [
       "VirtualCluster(children=(DualDisplay(children=(DriverDisplay(children=(Output(), Output(layout=Layout(align_it…"
      ]
     },
     "metadata": {},
     "output_type": "display_data"
    }
   ],
   "source": [
    "vc = VirtualCluster()\n",
    "vc"
   ]
  },
  {
   "cell_type": "code",
   "execution_count": 4,
   "id": "e1fead87",
   "metadata": {},
   "outputs": [],
   "source": [
    "s = EnhancedUISignalEnum(SysPwrMd)"
   ]
  },
  {
   "cell_type": "code",
   "execution_count": 5,
   "id": "5d631733",
   "metadata": {},
   "outputs": [
    {
     "data": {
      "application/vnd.jupyter.widget-view+json": {
       "model_id": "d5f4914abbc246d79943def56957100b",
       "version_major": 2,
       "version_minor": 0
      },
      "text/plain": [
       "EnhancedUISignalEnum(children=(HBox(children=(HTML(value=\"<h4 style='font-weight:bold'>SysPwrMd</h4>\"), Checkb…"
      ]
     },
     "metadata": {},
     "output_type": "display_data"
    }
   ],
   "source": [
    "s"
   ]
  },
  {
   "cell_type": "code",
   "execution_count": 7,
   "id": "7a784fc7",
   "metadata": {},
   "outputs": [],
   "source": [
    "default_signals_cluster.append_signal_widget(s)\n",
    "default_signals_cluster.append_signal_widget(s)\n",
    "default_signals_cluster.append_signal_widget(s)"
   ]
  },
  {
   "cell_type": "code",
   "execution_count": null,
   "id": "388c0ee1",
   "metadata": {},
   "outputs": [],
   "source": [
    "get_class_by_name(\"SysPwrMd\").ACC.value"
   ]
  },
  {
   "cell_type": "code",
   "execution_count": null,
   "id": "bb0d2961",
   "metadata": {},
   "outputs": [],
   "source": [
    "default_signals_cluster.signal_wigdets[\"SysPwrMd\"].value = get_class_by_name(\"SysPwrMd\").RUN.value"
   ]
  },
  {
   "cell_type": "code",
   "execution_count": null,
   "id": "2a0c1b29",
   "metadata": {},
   "outputs": [],
   "source": [
    "default_signals_cluster.signal_wigdets[\"SysPwrMd\"].value"
   ]
  },
  {
   "cell_type": "code",
   "execution_count": null,
   "id": "8a14baa1",
   "metadata": {},
   "outputs": [],
   "source": []
  },
  {
   "cell_type": "code",
   "execution_count": null,
   "id": "d052f872",
   "metadata": {},
   "outputs": [],
   "source": []
  },
  {
   "cell_type": "code",
   "execution_count": null,
   "id": "862f7d92",
   "metadata": {},
   "outputs": [],
   "source": []
  }
 ],
 "metadata": {
  "kernelspec": {
   "display_name": "Python 3 (ipykernel)",
   "language": "python",
   "name": "python3"
  },
  "language_info": {
   "codemirror_mode": {
    "name": "ipython",
    "version": 3
   },
   "file_extension": ".py",
   "mimetype": "text/x-python",
   "name": "python",
   "nbconvert_exporter": "python",
   "pygments_lexer": "ipython3",
   "version": "3.9.7"
  }
 },
 "nbformat": 4,
 "nbformat_minor": 5
}
