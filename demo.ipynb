{
 "cells": [
  {
   "cell_type": "code",
   "execution_count": 1,
   "id": "b884664c",
   "metadata": {},
   "outputs": [],
   "source": [
    "import ipywidgets as widgets\n",
    "\n",
    "from components.UISignal import *"
   ]
  },
  {
   "cell_type": "code",
   "execution_count": null,
   "id": "630166c2",
   "metadata": {},
   "outputs": [],
   "source": []
  },
  {
   "cell_type": "code",
   "execution_count": null,
   "id": "d52f1efb",
   "metadata": {},
   "outputs": [],
   "source": []
  },
  {
   "cell_type": "code",
   "execution_count": 2,
   "id": "161757b0",
   "metadata": {},
   "outputs": [],
   "source": [
    "VEHICLE_SYSTEM_POWER_MODE_OPTIONS = [\n",
    "        (\"OFF\", 0),\n",
    "        (\"ACC\", 1),\n",
    "        (\"RUN\", 2),\n",
    "        (\"CRANK\", 3)\n",
    "    ]\n",
    "\n",
    "signal = UISignalEnum(\"SysPowerMode\", VEHICLE_SYSTEM_POWER_MODE_OPTIONS)"
   ]
  },
  {
   "cell_type": "code",
   "execution_count": 3,
   "id": "6771812d",
   "metadata": {},
   "outputs": [
    {
     "data": {
      "application/vnd.jupyter.widget-view+json": {
       "model_id": "2be1c18e2b1b4c9da4f219a4d91dbba3",
       "version_major": 2,
       "version_minor": 0
      },
      "text/plain": [
       "UISignalEnum(children=(HBox(children=(HTML(value=\"<h4 style='font-weight:bold'>SysPowerMode</h4>\"), Checkbox(v…"
      ]
     },
     "metadata": {},
     "output_type": "display_data"
    }
   ],
   "source": [
    "signal"
   ]
  },
  {
   "cell_type": "code",
   "execution_count": null,
   "id": "b9673843",
   "metadata": {},
   "outputs": [],
   "source": []
  },
  {
   "cell_type": "code",
   "execution_count": 4,
   "id": "74a4a127",
   "metadata": {},
   "outputs": [
    {
     "data": {
      "application/vnd.jupyter.widget-view+json": {
       "model_id": "48dd3c6f7483430281447ced613e83c4",
       "version_major": 2,
       "version_minor": 0
      },
      "text/plain": [
       "HTML(value=\"<h3 style='background-color:#33475b'>Hello World!</h3>\")"
      ]
     },
     "metadata": {},
     "output_type": "display_data"
    }
   ],
   "source": [
    "html = widgets.HTML(\"<h3 style='background-color:#33475b'>Hello World!</h3>\")\n",
    "html"
   ]
  },
  {
   "cell_type": "code",
   "execution_count": null,
   "id": "f322dd5f",
   "metadata": {},
   "outputs": [],
   "source": []
  },
  {
   "cell_type": "code",
   "execution_count": null,
   "id": "2394ebad",
   "metadata": {},
   "outputs": [],
   "source": []
  }
 ],
 "metadata": {
  "kernelspec": {
   "display_name": "Python 3 (ipykernel)",
   "language": "python",
   "name": "python3"
  },
  "language_info": {
   "codemirror_mode": {
    "name": "ipython",
    "version": 3
   },
   "file_extension": ".py",
   "mimetype": "text/x-python",
   "name": "python",
   "nbconvert_exporter": "python",
   "pygments_lexer": "ipython3",
   "version": "3.9.7"
  }
 },
 "nbformat": 4,
 "nbformat_minor": 5
}
