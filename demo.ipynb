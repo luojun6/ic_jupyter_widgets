{
 "cells": [
  {
   "cell_type": "code",
   "execution_count": null,
   "id": "d8e10717",
   "metadata": {},
   "outputs": [],
   "source": [
    "from common.UISystemPower import *"
   ]
  },
  {
   "cell_type": "code",
   "execution_count": null,
   "id": "545a8388",
   "metadata": {},
   "outputs": [],
   "source": [
    "sysPwrMd = UIVehicleSystemPowerModeDropdown()"
   ]
  },
  {
   "cell_type": "code",
   "execution_count": null,
   "id": "9c2c1ac2",
   "metadata": {},
   "outputs": [],
   "source": [
    "sysPwrMd"
   ]
  },
  {
   "cell_type": "code",
   "execution_count": null,
   "id": "76d05db4",
   "metadata": {},
   "outputs": [],
   "source": []
  },
  {
   "cell_type": "code",
   "execution_count": 1,
   "id": "c74c1d97",
   "metadata": {},
   "outputs": [],
   "source": [
    "from customized.IviAvmCamPMDemo import IviAvmCamPMDemo, IviAvmCamPM, state_list, logging_handler\n",
    "demo = IviAvmCamPMDemo(IviAvmCamPM, state_list)"
   ]
  },
  {
   "cell_type": "code",
   "execution_count": 2,
   "id": "375de832",
   "metadata": {},
   "outputs": [
    {
     "data": {
      "application/vnd.jupyter.widget-view+json": {
       "model_id": "1d44ca7224d04467b36f2002fcb1545f",
       "version_major": 2,
       "version_minor": 0
      },
      "text/plain": [
       "IviAvmCamPMDemo(children=(HBox(children=(Output(layout=Layout(border='1px solid black', height='240px', width=…"
      ]
     },
     "metadata": {},
     "output_type": "display_data"
    }
   ],
   "source": [
    "demo"
   ]
  },
  {
   "cell_type": "code",
   "execution_count": null,
   "id": "d159f522",
   "metadata": {},
   "outputs": [],
   "source": []
  },
  {
   "cell_type": "code",
   "execution_count": null,
   "id": "1217c68b",
   "metadata": {},
   "outputs": [],
   "source": [
    "logging_handler.show_logs()"
   ]
  },
  {
   "cell_type": "code",
   "execution_count": null,
   "id": "38ce0eb3",
   "metadata": {},
   "outputs": [],
   "source": []
  }
 ],
 "metadata": {
  "kernelspec": {
   "display_name": "Python 3 (ipykernel)",
   "language": "python",
   "name": "python3"
  },
  "language_info": {
   "codemirror_mode": {
    "name": "ipython",
    "version": 3
   },
   "file_extension": ".py",
   "mimetype": "text/x-python",
   "name": "python",
   "nbconvert_exporter": "python",
   "pygments_lexer": "ipython3",
   "version": "3.9.7"
  }
 },
 "nbformat": 4,
 "nbformat_minor": 5
}
