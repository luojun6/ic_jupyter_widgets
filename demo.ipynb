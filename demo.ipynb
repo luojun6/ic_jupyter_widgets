{
 "cells": [
  {
   "cell_type": "code",
   "execution_count": 1,
   "id": "7bcda086",
   "metadata": {},
   "outputs": [],
   "source": [
    "from components.DABPM import DABPM"
   ]
  },
  {
   "cell_type": "code",
   "execution_count": 2,
   "id": "a7ea3ac2",
   "metadata": {
    "scrolled": false
   },
   "outputs": [
    {
     "ename": "AttributeError",
     "evalue": "'DABPM' object has no attribute '_DABPM__DAB_running_text'",
     "output_type": "error",
     "traceback": [
      "\u001b[0;31m---------------------------------------------------------------------------\u001b[0m",
      "\u001b[0;31mAttributeError\u001b[0m                            Traceback (most recent call last)",
      "\u001b[0;32m/tmp/ipykernel_868711/475375482.py\u001b[0m in \u001b[0;36m<module>\u001b[0;34m\u001b[0m\n\u001b[0;32m----> 1\u001b[0;31m \u001b[0mdab\u001b[0m \u001b[0;34m=\u001b[0m \u001b[0mDABPM\u001b[0m\u001b[0;34m(\u001b[0m\u001b[0;34m)\u001b[0m\u001b[0;34m\u001b[0m\u001b[0;34m\u001b[0m\u001b[0m\n\u001b[0m\u001b[1;32m      2\u001b[0m \u001b[0mdab\u001b[0m\u001b[0;34m\u001b[0m\u001b[0;34m\u001b[0m\u001b[0m\n",
      "\u001b[0;32m~/projects/ic_jupyter_widgets/components/DABPM.py\u001b[0m in \u001b[0;36m__init__\u001b[0;34m(self, **kwargs)\u001b[0m\n\u001b[1;32m     82\u001b[0m             [\n\u001b[1;32m     83\u001b[0m                 \u001b[0mself\u001b[0m\u001b[0;34m.\u001b[0m\u001b[0m__out\u001b[0m\u001b[0;34m,\u001b[0m\u001b[0;34m\u001b[0m\u001b[0;34m\u001b[0m\u001b[0m\n\u001b[0;32m---> 84\u001b[0;31m                 \u001b[0mwidgets\u001b[0m\u001b[0;34m.\u001b[0m\u001b[0mVBox\u001b[0m\u001b[0;34m(\u001b[0m\u001b[0;34m[\u001b[0m\u001b[0mself\u001b[0m\u001b[0;34m.\u001b[0m\u001b[0m__DAB\u001b[0m\u001b[0;34m,\u001b[0m \u001b[0mself\u001b[0m\u001b[0;34m.\u001b[0m\u001b[0m__DAB_running_text\u001b[0m\u001b[0;34m,\u001b[0m \u001b[0mself\u001b[0m\u001b[0;34m.\u001b[0m\u001b[0m__prompt_text\u001b[0m\u001b[0;34m]\u001b[0m\u001b[0;34m)\u001b[0m\u001b[0;34m,\u001b[0m\u001b[0;34m\u001b[0m\u001b[0;34m\u001b[0m\u001b[0m\n\u001b[0m\u001b[1;32m     85\u001b[0m             ],\n\u001b[1;32m     86\u001b[0m             \u001b[0;34m**\u001b[0m\u001b[0mkwargs\u001b[0m\u001b[0;34m,\u001b[0m\u001b[0;34m\u001b[0m\u001b[0;34m\u001b[0m\u001b[0m\n",
      "\u001b[0;31mAttributeError\u001b[0m: 'DABPM' object has no attribute '_DABPM__DAB_running_text'"
     ]
    }
   ],
   "source": [
    "dab = DABPM()\n",
    "dab"
   ]
  },
  {
   "cell_type": "code",
   "execution_count": null,
   "id": "28731cd7",
   "metadata": {},
   "outputs": [],
   "source": [
    "dab.disable_DAB()"
   ]
  },
  {
   "cell_type": "code",
   "execution_count": null,
   "id": "88120fd2",
   "metadata": {},
   "outputs": [],
   "source": [
    "dab.reset()"
   ]
  },
  {
   "cell_type": "code",
   "execution_count": null,
   "id": "8226c7a7",
   "metadata": {},
   "outputs": [],
   "source": []
  },
  {
   "cell_type": "code",
   "execution_count": null,
   "id": "e71fd285",
   "metadata": {},
   "outputs": [],
   "source": [
    "from common.UIPrompt import UIPrompt"
   ]
  },
  {
   "cell_type": "code",
   "execution_count": null,
   "id": "830ca32a",
   "metadata": {},
   "outputs": [],
   "source": [
    "prompt = UIPrompt()\n",
    "prompt"
   ]
  },
  {
   "cell_type": "code",
   "execution_count": null,
   "id": "bbbf27f4",
   "metadata": {},
   "outputs": [],
   "source": [
    "prompt.prompt(\"Hello\")"
   ]
  },
  {
   "cell_type": "code",
   "execution_count": null,
   "id": "e1bd9809",
   "metadata": {},
   "outputs": [],
   "source": []
  },
  {
   "cell_type": "code",
   "execution_count": null,
   "id": "0f58b47c",
   "metadata": {},
   "outputs": [],
   "source": []
  },
  {
   "cell_type": "code",
   "execution_count": null,
   "id": "708c4ccc",
   "metadata": {},
   "outputs": [],
   "source": [
    "import threading\n",
    "\n",
    "def fun_01():\n",
    "    # If the event is set then the function immediately exits.\n",
    "    kill_me = threading.Event()\n",
    "\n",
    "    timer = threading.Timer(3, call_back, [kill_me])\n",
    "\n",
    "    print(\"start~\")\n",
    "\n",
    "    timer.start()\n",
    "\n",
    "    # If the call_back function is executed after 3 seconds,\n",
    "    # the fun_01 function will be terminated\n",
    "    print(\"waiting\")\n",
    "    try:\n",
    "        # It will return when the event is set in given time otherwise it will \n",
    "        # raise TimeoutError\n",
    "        kill_me.wait(5)\n",
    "        return \"OK\"\n",
    "    except TimeoutError:\n",
    "        # In this concrete example this shouldn't ever execute\n",
    "        print(\"BUMMER...\")\n",
    "    finally:\n",
    "        print(\"end wait\")\n",
    "\n",
    "    print(\"Hello~\")\n",
    "\n",
    "    return \"exit\"\n",
    "\n",
    "def call_back(event):\n",
    "    event.set()\n",
    "\n",
    "print(fun_01())"
   ]
  },
  {
   "cell_type": "code",
   "execution_count": null,
   "id": "e210a0ef",
   "metadata": {},
   "outputs": [],
   "source": []
  }
 ],
 "metadata": {
  "kernelspec": {
   "display_name": "Python 3 (ipykernel)",
   "language": "python",
   "name": "python3"
  },
  "language_info": {
   "codemirror_mode": {
    "name": "ipython",
    "version": 3
   },
   "file_extension": ".py",
   "mimetype": "text/x-python",
   "name": "python",
   "nbconvert_exporter": "python",
   "pygments_lexer": "ipython3",
   "version": "3.9.7"
  }
 },
 "nbformat": 4,
 "nbformat_minor": 5
}
