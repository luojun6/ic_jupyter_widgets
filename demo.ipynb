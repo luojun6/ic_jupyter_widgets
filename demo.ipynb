{
 "cells": [
  {
   "cell_type": "code",
   "execution_count": null,
   "id": "ffbd18eb",
   "metadata": {},
   "outputs": [],
   "source": []
  },
  {
   "cell_type": "code",
   "execution_count": 1,
   "id": "c74c1d97",
   "metadata": {},
   "outputs": [],
   "source": [
    "from customized.IviAvmCamPMDemo import IviAvmCamPMDemo_Platform, logging_handler\n",
    "demo = IviAvmCamPMDemo_Platform()"
   ]
  },
  {
   "cell_type": "code",
   "execution_count": 2,
   "id": "375de832",
   "metadata": {},
   "outputs": [
    {
     "data": {
      "application/vnd.jupyter.widget-view+json": {
       "model_id": "003a558fe1ac4505ab3a7c61c78684ae",
       "version_major": 2,
       "version_minor": 0
      },
      "text/plain": [
       "IviAvmCamPMDemo_Platform(children=(IviAvmCamPMDemo(children=(HBox(children=(Output(layout=Layout(border='1px s…"
      ]
     },
     "metadata": {},
     "output_type": "display_data"
    }
   ],
   "source": [
    "demo"
   ]
  },
  {
   "cell_type": "code",
   "execution_count": null,
   "id": "d159f522",
   "metadata": {},
   "outputs": [],
   "source": []
  },
  {
   "cell_type": "code",
   "execution_count": null,
   "id": "1217c68b",
   "metadata": {},
   "outputs": [],
   "source": [
    "logging_handler.show_logs()"
   ]
  },
  {
   "cell_type": "code",
   "execution_count": null,
   "id": "5e29d966",
   "metadata": {},
   "outputs": [],
   "source": []
  }
 ],
 "metadata": {
  "kernelspec": {
   "display_name": "Python 3 (ipykernel)",
   "language": "python",
   "name": "python3"
  },
  "language_info": {
   "codemirror_mode": {
    "name": "ipython",
    "version": 3
   },
   "file_extension": ".py",
   "mimetype": "text/x-python",
   "name": "python",
   "nbconvert_exporter": "python",
   "pygments_lexer": "ipython3",
   "version": "3.9.7"
  }
 },
 "nbformat": 4,
 "nbformat_minor": 5
}
