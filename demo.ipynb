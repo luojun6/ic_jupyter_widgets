{
 "cells": [
  {
   "cell_type": "code",
   "execution_count": 1,
   "id": "af012351",
   "metadata": {},
   "outputs": [
    {
     "data": {
      "application/vnd.jupyter.widget-view+json": {
       "model_id": "2caa2226bf3a444b862d4c20afed1425",
       "version_major": 2,
       "version_minor": 0
      },
      "text/plain": [
       "DABPMDemo(children=(DABPM(children=(Output(layout=Layout(border='1px solid black', height='240px', width='320p…"
      ]
     },
     "metadata": {},
     "output_type": "display_data"
    }
   ],
   "source": [
    "from customized.DABPMDemo import DAB_demo\n",
    "DAB_demo"
   ]
  },
  {
   "cell_type": "code",
   "execution_count": null,
   "id": "1df8b44a",
   "metadata": {},
   "outputs": [],
   "source": []
  },
  {
   "cell_type": "code",
   "execution_count": null,
   "id": "e6dd8ff8",
   "metadata": {},
   "outputs": [],
   "source": []
  },
  {
   "cell_type": "code",
   "execution_count": null,
   "id": "b14fa81e",
   "metadata": {},
   "outputs": [],
   "source": []
  }
 ],
 "metadata": {
  "kernelspec": {
   "display_name": "Python 3 (ipykernel)",
   "language": "python",
   "name": "python3"
  },
  "language_info": {
   "codemirror_mode": {
    "name": "ipython",
    "version": 3
   },
   "file_extension": ".py",
   "mimetype": "text/x-python",
   "name": "python",
   "nbconvert_exporter": "python",
   "pygments_lexer": "ipython3",
   "version": "3.9.7"
  }
 },
 "nbformat": 4,
 "nbformat_minor": 5
}
