{
 "cells": [
  {
   "cell_type": "code",
   "execution_count": null,
   "id": "705afe3d",
   "metadata": {},
   "outputs": [],
   "source": []
  },
  {
   "cell_type": "markdown",
   "id": "d98b63ba",
   "metadata": {},
   "source": [
    "## Hardware Block Diagram\n",
    "![Hardware Block Diagram](res/images/ic_avm_camera_pm_hw.drawio.png)"
   ]
  },
  {
   "cell_type": "code",
   "execution_count": 1,
   "id": "eca9e52a",
   "metadata": {},
   "outputs": [],
   "source": [
    "from customized.IviAvmCamPM import IviAvmCamPM_Platform, logging_handler\n",
    "ivi_avm = IviAvmCamPM_Platform()"
   ]
  },
  {
   "cell_type": "code",
   "execution_count": 2,
   "id": "a41bf2ec",
   "metadata": {},
   "outputs": [
    {
     "data": {
      "application/vnd.jupyter.widget-view+json": {
       "model_id": "72129abef42f44e2871f383d91b879aa",
       "version_major": 2,
       "version_minor": 0
      },
      "text/plain": [
       "IviAvmCamPM_Platform(children=(HBox(children=(Output(layout=Layout(border='1px solid black', height='240px', w…"
      ]
     },
     "metadata": {},
     "output_type": "display_data"
    }
   ],
   "source": [
    "ivi_avm"
   ]
  },
  {
   "cell_type": "code",
   "execution_count": null,
   "id": "89e7bb5e",
   "metadata": {},
   "outputs": [],
   "source": []
  },
  {
   "cell_type": "code",
   "execution_count": null,
   "id": "5f6e4717",
   "metadata": {},
   "outputs": [],
   "source": []
  },
  {
   "cell_type": "markdown",
   "id": "61a0b599",
   "metadata": {},
   "source": [
    "## Key Sequence Diagram\n",
    "![Key Sequence Diagram](res/images/IVIIntegratedAVM360CamerasPM.png)"
   ]
  },
  {
   "cell_type": "markdown",
   "id": "bfd81af4",
   "metadata": {},
   "source": []
  },
  {
   "cell_type": "code",
   "execution_count": null,
   "id": "34c953c5",
   "metadata": {},
   "outputs": [],
   "source": []
  },
  {
   "cell_type": "code",
   "execution_count": null,
   "id": "2f140bb8",
   "metadata": {},
   "outputs": [],
   "source": [
    "logging_handler.show_logs()"
   ]
  },
  {
   "cell_type": "code",
   "execution_count": null,
   "id": "8231e582",
   "metadata": {},
   "outputs": [],
   "source": []
  }
 ],
 "metadata": {
  "kernelspec": {
   "display_name": "Python 3 (ipykernel)",
   "language": "python",
   "name": "python3"
  },
  "language_info": {
   "codemirror_mode": {
    "name": "ipython",
    "version": 3
   },
   "file_extension": ".py",
   "mimetype": "text/x-python",
   "name": "python",
   "nbconvert_exporter": "python",
   "pygments_lexer": "ipython3",
   "version": "3.9.7"
  }
 },
 "nbformat": 4,
 "nbformat_minor": 5
}
